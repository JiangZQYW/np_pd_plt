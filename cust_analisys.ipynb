{
 "cells": [
  {
   "cell_type": "code",
   "execution_count": 27,
   "metadata": {},
   "outputs": [
    {
     "data": {
      "text/plain": [
       "0.15288929567869056"
      ]
     },
     "execution_count": 27,
     "metadata": {},
     "output_type": "execute_result"
    }
   ],
   "source": [
    "import numpy as np\n",
    "import pandas as pd\n",
    "import matplotlib as mpl\n",
    "import matplotlib.pyplot as plt\n",
    "\n",
    "from sklearn.datasets import make_blobs\n",
    "from sklearn.model_selection import train_test_split\n",
    "\n",
    "\n",
    "X, y = make_blobs(centers=2, random_state=4, n_samples=30)  #make_blobs 生成多类单标签数据集，默认含两个特征\n",
    "\n",
    "data = np.random.normal(loc=5,scale=1,size=10) #loc均值,scale标准差,数量\n",
    "data.shape\n",
    "\n",
    "np.std(data)/np.mean(data)"
   ]
  },
  {
   "cell_type": "code",
   "execution_count": 38,
   "metadata": {},
   "outputs": [
    {
     "data": {
      "text/html": [
       "<div>\n",
       "<style scoped>\n",
       "    .dataframe tbody tr th:only-of-type {\n",
       "        vertical-align: middle;\n",
       "    }\n",
       "\n",
       "    .dataframe tbody tr th {\n",
       "        vertical-align: top;\n",
       "    }\n",
       "\n",
       "    .dataframe thead th {\n",
       "        text-align: right;\n",
       "    }\n",
       "</style>\n",
       "<table border=\"1\" class=\"dataframe\">\n",
       "  <thead>\n",
       "    <tr style=\"text-align: right;\">\n",
       "      <th></th>\n",
       "      <th>station_code</th>\n",
       "      <th>cust_id</th>\n",
       "      <th>first_dw_billdate</th>\n",
       "      <th>last_dw_billdate</th>\n",
       "      <th>zw_day</th>\n",
       "      <th>day_num</th>\n",
       "      <th>total_num</th>\n",
       "      <th>total_fee</th>\n",
       "      <th>bill_num</th>\n",
       "      <th>kz_total_num</th>\n",
       "      <th>...</th>\n",
       "      <th>kz_bill_num</th>\n",
       "      <th>th_total_num</th>\n",
       "      <th>th_total_fee</th>\n",
       "      <th>th_bill_num</th>\n",
       "      <th>cancel_total_num</th>\n",
       "      <th>cancel_total_fee</th>\n",
       "      <th>cancel_bill_num</th>\n",
       "      <th>avg_day</th>\n",
       "      <th>median_day</th>\n",
       "      <th>stddev_day</th>\n",
       "    </tr>\n",
       "  </thead>\n",
       "  <tbody>\n",
       "    <tr>\n",
       "      <th>0</th>\n",
       "      <td>1002</td>\n",
       "      <td>899</td>\n",
       "      <td>2018/8/11 0:00</td>\n",
       "      <td>2018/9/3 0:00</td>\n",
       "      <td>23</td>\n",
       "      <td>2</td>\n",
       "      <td>-4</td>\n",
       "      <td>86.0</td>\n",
       "      <td>2</td>\n",
       "      <td>-4</td>\n",
       "      <td>...</td>\n",
       "      <td>2</td>\n",
       "      <td>0</td>\n",
       "      <td>0.0</td>\n",
       "      <td>0</td>\n",
       "      <td>0</td>\n",
       "      <td>0.0</td>\n",
       "      <td>0</td>\n",
       "      <td>23</td>\n",
       "      <td>23</td>\n",
       "      <td>0</td>\n",
       "    </tr>\n",
       "    <tr>\n",
       "      <th>1</th>\n",
       "      <td>1002</td>\n",
       "      <td>972</td>\n",
       "      <td>2019/6/26 0:00</td>\n",
       "      <td>2019/6/26 0:00</td>\n",
       "      <td>0</td>\n",
       "      <td>1</td>\n",
       "      <td>-32</td>\n",
       "      <td>10410.0</td>\n",
       "      <td>1</td>\n",
       "      <td>-32</td>\n",
       "      <td>...</td>\n",
       "      <td>1</td>\n",
       "      <td>0</td>\n",
       "      <td>0.0</td>\n",
       "      <td>0</td>\n",
       "      <td>0</td>\n",
       "      <td>0.0</td>\n",
       "      <td>0</td>\n",
       "      <td>\\N</td>\n",
       "      <td>\\N</td>\n",
       "      <td>\\N</td>\n",
       "    </tr>\n",
       "    <tr>\n",
       "      <th>2</th>\n",
       "      <td>1002</td>\n",
       "      <td>976</td>\n",
       "      <td>2019/6/25 0:00</td>\n",
       "      <td>2019/6/25 0:00</td>\n",
       "      <td>0</td>\n",
       "      <td>1</td>\n",
       "      <td>-15</td>\n",
       "      <td>4900.0</td>\n",
       "      <td>1</td>\n",
       "      <td>-15</td>\n",
       "      <td>...</td>\n",
       "      <td>1</td>\n",
       "      <td>0</td>\n",
       "      <td>0.0</td>\n",
       "      <td>0</td>\n",
       "      <td>0</td>\n",
       "      <td>0.0</td>\n",
       "      <td>0</td>\n",
       "      <td>\\N</td>\n",
       "      <td>\\N</td>\n",
       "      <td>\\N</td>\n",
       "    </tr>\n",
       "    <tr>\n",
       "      <th>3</th>\n",
       "      <td>1002</td>\n",
       "      <td>977</td>\n",
       "      <td>2019/6/26 0:00</td>\n",
       "      <td>2019/6/26 0:00</td>\n",
       "      <td>0</td>\n",
       "      <td>1</td>\n",
       "      <td>-20</td>\n",
       "      <td>6250.0</td>\n",
       "      <td>1</td>\n",
       "      <td>-20</td>\n",
       "      <td>...</td>\n",
       "      <td>1</td>\n",
       "      <td>0</td>\n",
       "      <td>0.0</td>\n",
       "      <td>0</td>\n",
       "      <td>0</td>\n",
       "      <td>0.0</td>\n",
       "      <td>0</td>\n",
       "      <td>\\N</td>\n",
       "      <td>\\N</td>\n",
       "      <td>\\N</td>\n",
       "    </tr>\n",
       "    <tr>\n",
       "      <th>4</th>\n",
       "      <td>1002</td>\n",
       "      <td>988</td>\n",
       "      <td>2019/6/26 0:00</td>\n",
       "      <td>2019/6/26 0:00</td>\n",
       "      <td>0</td>\n",
       "      <td>1</td>\n",
       "      <td>-25</td>\n",
       "      <td>8060.0</td>\n",
       "      <td>1</td>\n",
       "      <td>-25</td>\n",
       "      <td>...</td>\n",
       "      <td>1</td>\n",
       "      <td>0</td>\n",
       "      <td>0.0</td>\n",
       "      <td>0</td>\n",
       "      <td>0</td>\n",
       "      <td>0.0</td>\n",
       "      <td>0</td>\n",
       "      <td>\\N</td>\n",
       "      <td>\\N</td>\n",
       "      <td>\\N</td>\n",
       "    </tr>\n",
       "  </tbody>\n",
       "</table>\n",
       "<p>5 rows × 21 columns</p>\n",
       "</div>"
      ],
      "text/plain": [
       "   station_code  cust_id first_dw_billdate last_dw_billdate  zw_day  day_num  \\\n",
       "0          1002      899    2018/8/11 0:00    2018/9/3 0:00      23        2   \n",
       "1          1002      972    2019/6/26 0:00   2019/6/26 0:00       0        1   \n",
       "2          1002      976    2019/6/25 0:00   2019/6/25 0:00       0        1   \n",
       "3          1002      977    2019/6/26 0:00   2019/6/26 0:00       0        1   \n",
       "4          1002      988    2019/6/26 0:00   2019/6/26 0:00       0        1   \n",
       "\n",
       "   total_num  total_fee  bill_num  kz_total_num    ...      kz_bill_num  \\\n",
       "0         -4       86.0         2            -4    ...                2   \n",
       "1        -32    10410.0         1           -32    ...                1   \n",
       "2        -15     4900.0         1           -15    ...                1   \n",
       "3        -20     6250.0         1           -20    ...                1   \n",
       "4        -25     8060.0         1           -25    ...                1   \n",
       "\n",
       "   th_total_num  th_total_fee  th_bill_num  cancel_total_num  \\\n",
       "0             0           0.0            0                 0   \n",
       "1             0           0.0            0                 0   \n",
       "2             0           0.0            0                 0   \n",
       "3             0           0.0            0                 0   \n",
       "4             0           0.0            0                 0   \n",
       "\n",
       "   cancel_total_fee  cancel_bill_num  avg_day median_day stddev_day  \n",
       "0               0.0                0       23         23          0  \n",
       "1               0.0                0       \\N         \\N         \\N  \n",
       "2               0.0                0       \\N         \\N         \\N  \n",
       "3               0.0                0       \\N         \\N         \\N  \n",
       "4               0.0                0       \\N         \\N         \\N  \n",
       "\n",
       "[5 rows x 21 columns]"
      ]
     },
     "execution_count": 38,
     "metadata": {},
     "output_type": "execute_result"
    }
   ],
   "source": [
    "df = pd.read_csv(r\"C:\\Users\\KZCF\\Desktop\\cust_analisys\\cust_sample.csv\",sep = ',', encoding='utf-8')\n",
    "df.head()\n",
    "#df[['cust_id','zw_day']]\n"
   ]
  },
  {
   "cell_type": "code",
   "execution_count": 48,
   "metadata": {},
   "outputs": [],
   "source": [
    "from sklearn.cluster import KMeans\n",
    "\n",
    "X=df[['cust_id','zw_day','day_num','total_num','total_fee']]\n",
    "kmeans = KMeans(n_clusters=4)\n",
    "kmeans.fit(X)\n",
    "y_kmeans = kmeans.labels_\n",
    "#y_kmeans = kmeans.predict(X)  #predict 对新的数据集进行预测\n",
    "\n"
   ]
  },
  {
   "cell_type": "code",
   "execution_count": 53,
   "metadata": {},
   "outputs": [
    {
     "data": {
      "text/plain": [
       "RangeIndex(start=0, stop=79947, step=1)"
      ]
     },
     "execution_count": 53,
     "metadata": {},
     "output_type": "execute_result"
    }
   ],
   "source": [
    "y_kmeans.shape\n",
    "#y_kmeans[:5]\n",
    "type(y_kmeans)\n",
    "X.index"
   ]
  },
  {
   "cell_type": "code",
   "execution_count": 45,
   "metadata": {},
   "outputs": [
    {
     "data": {
      "text/plain": [
       "45053380708905.914"
      ]
     },
     "execution_count": 45,
     "metadata": {},
     "output_type": "execute_result"
    }
   ],
   "source": [
    "kmeans.inertia_  #组内平方和"
   ]
  },
  {
   "cell_type": "code",
   "execution_count": 57,
   "metadata": {},
   "outputs": [
    {
     "data": {
      "text/plain": [
       "RangeIndex(start=0, stop=79947, step=1)"
      ]
     },
     "execution_count": 57,
     "metadata": {},
     "output_type": "execute_result"
    }
   ],
   "source": [
    "df_y_kmeans=pd.DataFrame(y_kmeans)\n",
    "df_y_kmeans.index"
   ]
  },
  {
   "cell_type": "code",
   "execution_count": 62,
   "metadata": {},
   "outputs": [
    {
     "data": {
      "text/html": [
       "<div>\n",
       "<style scoped>\n",
       "    .dataframe tbody tr th:only-of-type {\n",
       "        vertical-align: middle;\n",
       "    }\n",
       "\n",
       "    .dataframe tbody tr th {\n",
       "        vertical-align: top;\n",
       "    }\n",
       "\n",
       "    .dataframe thead th {\n",
       "        text-align: right;\n",
       "    }\n",
       "</style>\n",
       "<table border=\"1\" class=\"dataframe\">\n",
       "  <thead>\n",
       "    <tr style=\"text-align: right;\">\n",
       "      <th></th>\n",
       "      <th>cust_id</th>\n",
       "      <th>zw_day</th>\n",
       "      <th>day_num</th>\n",
       "      <th>total_num</th>\n",
       "      <th>total_fee</th>\n",
       "      <th>0</th>\n",
       "    </tr>\n",
       "  </thead>\n",
       "  <tbody>\n",
       "    <tr>\n",
       "      <th>79942</th>\n",
       "      <td>212138</td>\n",
       "      <td>0</td>\n",
       "      <td>1</td>\n",
       "      <td>-1</td>\n",
       "      <td>50.00</td>\n",
       "      <td>0</td>\n",
       "    </tr>\n",
       "    <tr>\n",
       "      <th>79943</th>\n",
       "      <td>212701</td>\n",
       "      <td>27</td>\n",
       "      <td>5</td>\n",
       "      <td>-11</td>\n",
       "      <td>470.00</td>\n",
       "      <td>0</td>\n",
       "    </tr>\n",
       "    <tr>\n",
       "      <th>79944</th>\n",
       "      <td>221760</td>\n",
       "      <td>3</td>\n",
       "      <td>3</td>\n",
       "      <td>-25</td>\n",
       "      <td>1150.12</td>\n",
       "      <td>0</td>\n",
       "    </tr>\n",
       "    <tr>\n",
       "      <th>79945</th>\n",
       "      <td>222386</td>\n",
       "      <td>6</td>\n",
       "      <td>2</td>\n",
       "      <td>-1</td>\n",
       "      <td>560.00</td>\n",
       "      <td>0</td>\n",
       "    </tr>\n",
       "    <tr>\n",
       "      <th>79946</th>\n",
       "      <td>220934</td>\n",
       "      <td>0</td>\n",
       "      <td>1</td>\n",
       "      <td>0</td>\n",
       "      <td>0.00</td>\n",
       "      <td>0</td>\n",
       "    </tr>\n",
       "  </tbody>\n",
       "</table>\n",
       "</div>"
      ],
      "text/plain": [
       "       cust_id  zw_day  day_num  total_num  total_fee  0\n",
       "79942   212138       0        1         -1      50.00  0\n",
       "79943   212701      27        5        -11     470.00  0\n",
       "79944   221760       3        3        -25    1150.12  0\n",
       "79945   222386       6        2         -1     560.00  0\n",
       "79946   220934       0        1          0       0.00  0"
      ]
     },
     "execution_count": 62,
     "metadata": {},
     "output_type": "execute_result"
    }
   ],
   "source": [
    "result = pd.merge(X, pd.DataFrame(y_kmeans),left_index=True,right_index=True)\n",
    "result.shape\n",
    "result.head()\n",
    "result.tail()"
   ]
  }
 ],
 "metadata": {
  "kernelspec": {
   "display_name": "Python 3",
   "language": "python",
   "name": "python3"
  },
  "language_info": {
   "codemirror_mode": {
    "name": "ipython",
    "version": 3
   },
   "file_extension": ".py",
   "mimetype": "text/x-python",
   "name": "python",
   "nbconvert_exporter": "python",
   "pygments_lexer": "ipython3",
   "version": "3.7.0"
  }
 },
 "nbformat": 4,
 "nbformat_minor": 2
}
